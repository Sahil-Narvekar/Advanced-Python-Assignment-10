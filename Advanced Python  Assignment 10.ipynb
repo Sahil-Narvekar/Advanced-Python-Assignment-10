{
 "cells": [
  {
   "cell_type": "code",
   "execution_count": null,
   "metadata": {},
   "outputs": [],
   "source": [
    "Q1. What is the difference between __getattr__ and __getattribute__?"
   ]
  },
  {
   "cell_type": "code",
   "execution_count": null,
   "metadata": {},
   "outputs": [],
   "source": [
    "__getattr__ gets called if there is no attribute in the instance.It’s invoked “last”, if Python can’t find \n",
    "that attribute.(lowest priority)\n",
    "\n",
    "__getattribute__ gets called all the times, whether there is the attribute or not.It’s invoked “first”\n",
    "(highest priority) — it actually “intercepts” every lookup.So, even if there is the attribute in the \n",
    "instance, Python calls __getattribute__ first, with the attribute as an argument."
   ]
  },
  {
   "cell_type": "code",
   "execution_count": 54,
   "metadata": {},
   "outputs": [
    {
     "name": "stdout",
     "output_type": "stream",
     "text": [
      "got the name\n",
      "Did not get the  name2find\n",
      "{'surname': 'got the name'}\n"
     ]
    }
   ],
   "source": [
    "class A:\n",
    "    def __getattr__(self,name):\n",
    "        return ('Did not get the  {}'.format(name))\n",
    "   \n",
    "        \n",
    "a=A()\n",
    "a.surname='got the name'\n",
    "print(a.surname)\n",
    "print(a.name2find)\n",
    "print(a.__dict__)"
   ]
  },
  {
   "cell_type": "code",
   "execution_count": null,
   "metadata": {},
   "outputs": [],
   "source": [
    "Python could find 'surname’, so it prints the value of ‘surname’.\n",
    "But, ‘name’ cannot be found, so __getattr__ is invoked.\n",
    "if we print a.__dict__out, we can see the attribute ‘surname’ and the value of it."
   ]
  },
  {
   "cell_type": "code",
   "execution_count": 58,
   "metadata": {},
   "outputs": [
    {
     "name": "stdout",
     "output_type": "stream",
     "text": [
      "This is thr default name surname\n",
      "This is thr default name name2find\n",
      "This is thr default name __dict__\n"
     ]
    }
   ],
   "source": [
    "class A:\n",
    "    def __getattr__(self,name):\n",
    "        return ('Did not get the  {}'.format(name))\n",
    "    def __getattribute__(self,name):\n",
    "        return ('This is thr default name {}'.format(name))\n",
    "        \n",
    "a=A()\n",
    "a.surname='got the name'\n",
    "print(a.surname)\n",
    "print(a.name2find)\n",
    "print(a.__dict__)\n"
   ]
  },
  {
   "cell_type": "code",
   "execution_count": null,
   "metadata": {},
   "outputs": [],
   "source": [
    "Even though we assigned a value ‘ace value’ to the attribute ‘surname’, __getattribute__ is invoked first\n",
    "(It “intercepts” every lookup). Python doesn’t even try to find ‘surname’.\n",
    "\n",
    "‘name2find’ does not exist. __getattribute__ is also called here, not __getattr__ .\n",
    "\n",
    "If we see the output of a.__dict__, we again can conclude that __getattribute__ is invoked “first”, \n",
    "the highest priority."
   ]
  },
  {
   "cell_type": "code",
   "execution_count": null,
   "metadata": {},
   "outputs": [],
   "source": [
    "Q2. What is the difference between properties and descriptors?"
   ]
  },
  {
   "cell_type": "code",
   "execution_count": null,
   "metadata": {},
   "outputs": [],
   "source": [
    "Descriptors are a low-level mechanism that lets you hook into an object's attributes being accessed. \n",
    "Properties are a high-level application of this; that is, properties are implemented using descriptors.\n",
    "Or, better yet, properties are descriptors that are already provided for you in the standard library."
   ]
  },
  {
   "cell_type": "code",
   "execution_count": null,
   "metadata": {},
   "outputs": [],
   "source": [
    "Descriptors are Python objects that implement a method of the descriptor protocol, which gives you the \n",
    "ability to create objects that have special behavior when they’re accessed as attributes of other objects."
   ]
  },
  {
   "cell_type": "code",
   "execution_count": null,
   "metadata": {},
   "outputs": [],
   "source": [
    "__get__(self, obj, type=None) -> object\n",
    "__set__(self, obj, value) -> None\n",
    "__delete__(self, obj) -> None\n",
    "__set_name__(self, owner, name)"
   ]
  },
  {
   "cell_type": "markdown",
   "metadata": {},
   "source": [
    "Descriptor example\n"
   ]
  },
  {
   "cell_type": "code",
   "execution_count": 61,
   "metadata": {},
   "outputs": [
    {
     "data": {
      "text/plain": [
       "(175.0, 347.0)"
      ]
     },
     "execution_count": 61,
     "metadata": {},
     "output_type": "execute_result"
    }
   ],
   "source": [
    "class Celsius( object ):\n",
    "    def __init__( self, value=0.0 ):\n",
    "        self.value= float(value)\n",
    "    def __get__( self, instance, owner ):\n",
    "        return self.value\n",
    "    def __set__( self, instance, value ):\n",
    "        self.value= float(value)\n",
    "\n",
    "class Farenheit( object ):\n",
    "    def __get__( self, instance, owner ):\n",
    "        return instance.celsius * 9 / 5 + 32\n",
    "    def __set__( self, instance, value ):\n",
    "        instance.celsius= (float(value)-32) * 5 / 9\n",
    "\n",
    "class Temperature( object ):\n",
    "    celsius= Celsius()\n",
    "    farenheit= Farenheit()\n",
    "\n",
    "oven= Temperature()\n",
    "\n",
    "oven.farenheit= 450\n",
    "oven.celsius= 175\n",
    "oven.celsius,oven.farenheit"
   ]
  },
  {
   "cell_type": "markdown",
   "metadata": {},
   "source": [
    "Property Example"
   ]
  },
  {
   "cell_type": "code",
   "execution_count": 62,
   "metadata": {},
   "outputs": [
    {
     "data": {
      "text/plain": [
       "(175.0, 347.0)"
      ]
     },
     "execution_count": 62,
     "metadata": {},
     "output_type": "execute_result"
    }
   ],
   "source": [
    "class Temperature( object ):\n",
    "    def fget( self ):\n",
    "        return self.celsius * 9 / 5 + 32\n",
    "    def fset( self, value ):\n",
    "        self.celsius= (float(value)-32) * 5 / 9\n",
    "    farenheit= property( fget, fset )\n",
    "    def cset( self, value ):\n",
    "        self.cTemp= float(value)\n",
    "    def cget( self ):\n",
    "        return self.cTemp\n",
    "    celsius= property( cget, cset, doc=\"Celsius temperature\" )\n",
    "oven= Temperature()\n",
    "oven.farenheit= 450\n",
    "oven.celsius= 175\n",
    "oven.celsius,oven.farenheit\n"
   ]
  },
  {
   "cell_type": "code",
   "execution_count": null,
   "metadata": {},
   "outputs": [],
   "source": [
    "The property function gives us a handy way to implement a simple descriptor without defining a separate\n",
    "class. Rather than create a complete class definition, we can write getter and setter method functions, \n",
    "and then bind these functions to an attribute name."
   ]
  },
  {
   "cell_type": "code",
   "execution_count": null,
   "metadata": {},
   "outputs": [],
   "source": [
    "Q3. What are the key differences in functionality between __getattr__ and __getattribute__, as well as\n",
    "properties and descriptors?"
   ]
  },
  {
   "cell_type": "code",
   "execution_count": null,
   "metadata": {},
   "outputs": [],
   "source": [
    "__getattr__ gets called if there is no attribute in the instance.It’s invoked “last”, if Python can’t find \n",
    "that attribute.(lowest priority)\n",
    "\n",
    "__getattribute__ gets called all the times, whether there is the attribute or not.It’s invoked “first”\n",
    "(highest priority) — it actually “intercepts” every lookup.So, even if there is the attribute in the \n",
    "instance, Python calls __getattribute__ first, with the attribute as an argument."
   ]
  },
  {
   "cell_type": "code",
   "execution_count": 54,
   "metadata": {},
   "outputs": [
    {
     "name": "stdout",
     "output_type": "stream",
     "text": [
      "got the name\n",
      "Did not get the  name2find\n",
      "{'surname': 'got the name'}\n"
     ]
    }
   ],
   "source": [
    "class A:\n",
    "    def __getattr__(self,name):\n",
    "        return ('Did not get the  {}'.format(name))\n",
    "   \n",
    "        \n",
    "a=A()\n",
    "a.surname='got the name'\n",
    "print(a.surname)\n",
    "print(a.name2find)\n",
    "print(a.__dict__)"
   ]
  },
  {
   "cell_type": "code",
   "execution_count": null,
   "metadata": {},
   "outputs": [],
   "source": [
    "Python could find 'surname’, so it prints the value of ‘surname’.\n",
    "But, ‘name’ cannot be found, so __getattr__ is invoked.\n",
    "if we print a.__dict__out, we can see the attribute ‘surname’ and the value of it."
   ]
  },
  {
   "cell_type": "code",
   "execution_count": 58,
   "metadata": {},
   "outputs": [
    {
     "name": "stdout",
     "output_type": "stream",
     "text": [
      "This is thr default name surname\n",
      "This is thr default name name2find\n",
      "This is thr default name __dict__\n"
     ]
    }
   ],
   "source": [
    "class A:\n",
    "    def __getattr__(self,name):\n",
    "        return ('Did not get the  {}'.format(name))\n",
    "    def __getattribute__(self,name):\n",
    "        return ('This is thr default name {}'.format(name))\n",
    "        \n",
    "a=A()\n",
    "a.surname='got the name'\n",
    "print(a.surname)\n",
    "print(a.name2find)\n",
    "print(a.__dict__)\n"
   ]
  },
  {
   "cell_type": "code",
   "execution_count": null,
   "metadata": {},
   "outputs": [],
   "source": [
    "Even though we assigned a value ‘ace value’ to the attribute ‘surname’, __getattribute__ is invoked first\n",
    "(It “intercepts” every lookup). Python doesn’t even try to find ‘surname’.\n",
    "\n",
    "‘name2find’ does not exist. __getattribute__ is also called here, not __getattr__ .\n",
    "\n",
    "If we see the output of a.__dict__, we again can conclude that __getattribute__ is invoked “first”, \n",
    "the highest priority."
   ]
  },
  {
   "cell_type": "markdown",
   "metadata": {},
   "source": [
    "Descriptor example\n"
   ]
  },
  {
   "cell_type": "code",
   "execution_count": 61,
   "metadata": {},
   "outputs": [
    {
     "data": {
      "text/plain": [
       "(175.0, 347.0)"
      ]
     },
     "execution_count": 61,
     "metadata": {},
     "output_type": "execute_result"
    }
   ],
   "source": [
    "class Celsius( object ):\n",
    "    def __init__( self, value=0.0 ):\n",
    "        self.value= float(value)\n",
    "    def __get__( self, instance, owner ):\n",
    "        return self.value\n",
    "    def __set__( self, instance, value ):\n",
    "        self.value= float(value)\n",
    "\n",
    "class Farenheit( object ):\n",
    "    def __get__( self, instance, owner ):\n",
    "        return instance.celsius * 9 / 5 + 32\n",
    "    def __set__( self, instance, value ):\n",
    "        instance.celsius= (float(value)-32) * 5 / 9\n",
    "\n",
    "class Temperature( object ):\n",
    "    celsius= Celsius()\n",
    "    farenheit= Farenheit()\n",
    "\n",
    "oven= Temperature()\n",
    "\n",
    "oven.farenheit= 450\n",
    "oven.celsius= 175\n",
    "oven.celsius,oven.farenheit"
   ]
  },
  {
   "cell_type": "markdown",
   "metadata": {},
   "source": [
    "Property Example"
   ]
  },
  {
   "cell_type": "code",
   "execution_count": 62,
   "metadata": {},
   "outputs": [
    {
     "data": {
      "text/plain": [
       "(175.0, 347.0)"
      ]
     },
     "execution_count": 62,
     "metadata": {},
     "output_type": "execute_result"
    }
   ],
   "source": [
    "class Temperature( object ):\n",
    "    def fget( self ):\n",
    "        return self.celsius * 9 / 5 + 32\n",
    "    def fset( self, value ):\n",
    "        self.celsius= (float(value)-32) * 5 / 9\n",
    "    farenheit= property( fget, fset )\n",
    "    def cset( self, value ):\n",
    "        self.cTemp= float(value)\n",
    "    def cget( self ):\n",
    "        return self.cTemp\n",
    "    celsius= property( cget, cset, doc=\"Celsius temperature\" )\n",
    "oven= Temperature()\n",
    "oven.farenheit= 450\n",
    "oven.celsius= 175\n",
    "oven.celsius,oven.farenheit\n"
   ]
  },
  {
   "cell_type": "code",
   "execution_count": null,
   "metadata": {},
   "outputs": [],
   "source": [
    "The property function gives us a handy way to implement a simple descriptor without defining a separate\n",
    "class. Rather than create a complete class definition, we can write getter and setter method functions, \n",
    "and then bind these functions to an attribute name."
   ]
  },
  {
   "cell_type": "code",
   "execution_count": null,
   "metadata": {},
   "outputs": [],
   "source": [
    "Descriptors are a low-level mechanism that lets you hook into an object's attributes being accessed. \n",
    "Properties are a high-level application of this; that is, properties are implemented using descriptors.\n",
    "Or, better yet, properties are descriptors that are already provided for you in the standard library."
   ]
  }
 ],
 "metadata": {
  "kernelspec": {
   "display_name": "Python 3",
   "language": "python",
   "name": "python3"
  },
  "language_info": {
   "codemirror_mode": {
    "name": "ipython",
    "version": 3
   },
   "file_extension": ".py",
   "mimetype": "text/x-python",
   "name": "python",
   "nbconvert_exporter": "python",
   "pygments_lexer": "ipython3",
   "version": "3.8.3"
  }
 },
 "nbformat": 4,
 "nbformat_minor": 4
}
